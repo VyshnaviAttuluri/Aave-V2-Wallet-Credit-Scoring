{
  "nbformat": 4,
  "nbformat_minor": 0,
  "metadata": {
    "colab": {
      "provenance": []
    },
    "kernelspec": {
      "name": "python3",
      "display_name": "Python 3"
    },
    "language_info": {
      "name": "python"
    }
  },
  "cells": [
    {
      "cell_type": "code",
      "source": [
        "from google.colab import drive\n",
        "drive.mount('/content/drive')\n",
        "\n"
      ],
      "metadata": {
        "colab": {
          "base_uri": "https://localhost:8080/"
        },
        "id": "YHQeAXD93-xl",
        "outputId": "bba06e69-bda3-49e4-8915-74992962b44b"
      },
      "execution_count": null,
      "outputs": [
        {
          "output_type": "stream",
          "name": "stdout",
          "text": [
            "Drive already mounted at /content/drive; to attempt to forcibly remount, call drive.mount(\"/content/drive\", force_remount=True).\n"
          ]
        }
      ]
    },
    {
      "cell_type": "code",
      "metadata": {
        "colab": {
          "base_uri": "https://localhost:8080/"
        },
        "id": "19279c27",
        "outputId": "2a28eee7-08de-47a7-9e07-d101ebbaae24"
      },
      "source": [
        "%cd /content/drive/MyDrive/project-root\n",
        "!ls"
      ],
      "execution_count": null,
      "outputs": [
        {
          "output_type": "stream",
          "name": "stdout",
          "text": [
            "/content/drive/MyDrive/project-root\n",
            "analysis.md  README.md\t score_wallets.py\n",
            "notebooks    scores.csv  transactions.json\n"
          ]
        }
      ]
    },
    {
      "cell_type": "code",
      "source": [
        "%%writefile /content/drive/MyDrive/project-root/score_wallets.py\n",
        "\n",
        "import pandas as pd\n",
        "import json\n",
        "\n",
        "# ---------- STEP 1: Load raw transaction JSON ----------\n",
        "with open(\"transactions.json\", \"r\") as f:\n",
        "    raw_data = json.load(f)\n",
        "\n",
        "df = pd.DataFrame(raw_data)\n",
        "\n",
        "# ---------- STEP 2: Clean & Preprocess ----------\n",
        "df['timestamp'] = pd.to_datetime(df['timestamp'], errors='coerce')\n",
        "# Handle missing 'amount' key by filling with 0, or you could drop rows if amount is crucial\n",
        "df['amount'] = df.get('amount', pd.Series([0] * len(df))).astype(float)\n",
        "df = df.dropna(subset=['wallet_address', 'type']) # Changed 'user' to 'wallet_address'\n",
        "\n",
        "# ---------- STEP 3: Feature Engineering ----------\n",
        "def compute_features(df):\n",
        "    # 1. Basic counts\n",
        "    total_deposits = df[df['type'] == 'deposit'].groupby('wallet_address').size().rename('total_deposits') # Changed 'user' to 'wallet_address'\n",
        "    total_borrows = df[df['type'] == 'borrow'].groupby('wallet_address').size().rename('total_borrows') # Changed 'user' to 'wallet_address'\n",
        "\n",
        "    # 2. Repay-to-Borrow Ratio\n",
        "    repay_sum = df[df['type'] == 'repay'].groupby('wallet_address')['amount'].sum() # Changed 'user' to 'wallet_address'\n",
        "    borrow_sum = df[df['type'] == 'borrow'].groupby('wallet_address')['amount'].sum() # Changed 'user' to 'wallet_address'\n",
        "    repay_ratio = (repay_sum / (borrow_sum + 1)).rename('repay_to_borrow_ratio')\n",
        "\n",
        "    # 3. Avg. Borrow-Repay Time (sec)\n",
        "    borrow_time = df[df['type'] == 'borrow'][['wallet_address', 'timestamp']].rename(columns={'timestamp': 'borrow_time'}) # Changed 'user' to 'wallet_address'\n",
        "    repay_time = df[df['type'] == 'repay'][['wallet_address', 'timestamp']].rename(columns={'timestamp': 'repay_time'}) # Changed 'user' to 'wallet_address'\n",
        "    merged = pd.merge(borrow_time, repay_time, on='wallet_address')\n",
        "    merged['delta'] = (merged['repay_time'] - merged['borrow_time']).dt.total_seconds().abs()\n",
        "    avg_repay_time = merged.groupby('wallet_address')['delta'].mean().rename('avg_borrow_repay_time') # Changed 'user' to 'wallet_address'\n",
        "\n",
        "    # 4. Liquidation count\n",
        "    liquidation_count = df[df['type'] == 'liquidationcall'].groupby('wallet_address').size().rename('liquidation_count') # Changed 'user' to 'wallet_address'\n",
        "\n",
        "    # 5. Active days\n",
        "    first_seen = df.groupby('wallet_address')['timestamp'].min() # Changed 'user' to 'wallet_address'\n",
        "    last_seen = df.groupby('wallet_address')['timestamp'].max() # Changed 'user' to 'wallet_address'\n",
        "    active_days = (last_seen - first_seen).dt.days.rename('active_days')\n",
        "\n",
        "    # 6. Tx frequency\n",
        "    tx_count = df.groupby('wallet_address').size().rename('total_tx') # Changed 'user' to 'wallet_address'\n",
        "    tx_freq = (tx_count / (active_days + 1)).rename('tx_frequency')\n",
        "\n",
        "    # 7. Unique tx types\n",
        "    unique_tx_types = df.groupby('wallet_address')['type'].nunique().rename('unique_tx_types') # Changed 'user' to 'wallet_address'\n",
        "\n",
        "    # 8. Combine all features\n",
        "    features = pd.concat([\n",
        "        total_deposits,\n",
        "        total_borrows,\n",
        "        repay_ratio,\n",
        "        avg_repay_time,\n",
        "        liquidation_count,\n",
        "        active_days,\n",
        "        tx_freq,\n",
        "        unique_tx_types\n",
        "    ], axis=1).fillna(0)\n",
        "\n",
        "    return features\n",
        "\n",
        "features = compute_features(df)\n",
        "\n",
        "# ---------- STEP 4: Heuristic Scoring Logic ----------\n",
        "def score_wallets(features):\n",
        "    score = (\n",
        "        features['total_deposits'] * 10 +\n",
        "        features['repay_to_borrow_ratio'] * 100 +\n",
        "        (1 / (features['avg_borrow_repay_time'] + 1)) * 500000 +\n",
        "        features['tx_frequency'] * 200 -\n",
        "        features['liquidation_count'] * 200\n",
        "    )\n",
        "    score = score.clip(lower=0)\n",
        "    scaled_score = 1000 * (score - score.min()) / (score.max() - score.min() + 1e-9)\n",
        "    return scaled_score\n",
        "\n",
        "features['credit_score'] = score_wallets(features)\n",
        "\n",
        "# ---------- STEP 5: Save output ----------\n",
        "features.reset_index()[['wallet_address', 'credit_score']].rename( # Changed 'user' to 'wallet_address'\n",
        "    columns={'wallet_address': 'wallet_address'}\n",
        ").to_csv(\"scores.csv\", index=False)\n",
        "\n",
        "print(\"✅ All wallets scored. File 'scores.csv' generated.\")"
      ],
      "metadata": {
        "id": "WPRoGfWrcy7O"
      },
      "execution_count": null,
      "outputs": []
    },
    {
      "cell_type": "code",
      "metadata": {
        "colab": {
          "base_uri": "https://localhost:8080/"
        },
        "id": "3f0b6086",
        "outputId": "b92d21ce-7d22-471e-9bfc-5e7c5b255284"
      },
      "source": [
        "%cd /content/drive/MyDrive/project-root\n",
        "!head transactions.json"
      ],
      "execution_count": null,
      "outputs": [
        {
          "output_type": "stream",
          "name": "stdout",
          "text": [
            "/content/drive/MyDrive/project-root\n",
            "[\n",
            "  {\"wallet_address\": \"0x123...\", \"type\": \"NFT Sale\", \"timestamp\": 1678886400},\n",
            "  {\"wallet_address\": \"0x456...\", \"type\": \"Token Swap\", \"timestamp\": 1678886460},\n",
            "  {\"wallet_address\": \"0x123...\", \"type\": \"Lending\", \"timestamp\": 1678886520},\n",
            "  {\"wallet_address\": \"0x789...\", \"type\": \"Staking\", \"timestamp\": 1678886580},\n",
            "  {\"wallet_address\": \"0x456...\", \"type\": \"Liquidity Providing\", \"timestamp\": 1678886640}\n",
            "]\n"
          ]
        }
      ]
    },
    {
      "cell_type": "code",
      "metadata": {
        "colab": {
          "base_uri": "https://localhost:8080/"
        },
        "id": "9d4834b7",
        "outputId": "8da1033f-3184-46d3-c77d-0a51e72d2bfe"
      },
      "source": [
        "%%writefile /content/drive/MyDrive/project-root/transactions.json\n",
        "[\n",
        "  {\"wallet_address\": \"0x123...\", \"type\": \"deposit\", \"timestamp\": 1678886400, \"amount\": 1000},\n",
        "  {\"wallet_address\": \"0x456...\", \"type\": \"borrow\", \"timestamp\": 1678886460, \"amount\": 500},\n",
        "  {\"wallet_address\": \"0x123...\", \"type\": \"borrow\", \"timestamp\": 1678886520, \"amount\": 200},\n",
        "  {\"wallet_address\": \"0x789...\", \"type\": \"deposit\", \"timestamp\": 1678886580, \"amount\": 5000},\n",
        "  {\"wallet_address\": \"0x456...\", \"type\": \"repay\", \"timestamp\": 1678886640, \"amount\": 500},\n",
        "  {\"wallet_address\": \"0x123...\", \"type\": \"repay\", \"timestamp\": 1678886700, \"amount\": 100},\n",
        "  {\"wallet_address\": \"0xabc...\", \"type\": \"liquidationcall\", \"timestamp\": 1678886760, \"amount\": 0},\n",
        "  {\"wallet_address\": \"0x123...\", \"type\": \"deposit\", \"timestamp\": 1678886820, \"amount\": 300}\n",
        "]"
      ],
      "execution_count": null,
      "outputs": [
        {
          "output_type": "stream",
          "name": "stdout",
          "text": [
            "Overwriting /content/drive/MyDrive/project-root/transactions.json\n"
          ]
        }
      ]
    },
    {
      "cell_type": "code",
      "source": [
        "!ls -lh /content/drive/MyDrive/project-root/scores.csv\n",
        "!head /content/drive/MyDrive/project-root/scores.csv\n"
      ],
      "metadata": {
        "id": "G_vaJkokdjkx"
      },
      "execution_count": null,
      "outputs": []
    }
  ]
}